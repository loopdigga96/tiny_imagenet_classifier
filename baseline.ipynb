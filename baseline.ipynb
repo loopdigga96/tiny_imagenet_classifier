{
 "cells": [
  {
   "cell_type": "markdown",
   "metadata": {
    "pycharm": {
     "metadata": false
    }
   },
   "source": [
    "# Baseline solution for Tiny ImageNet Challenge"
   ]
  },
  {
   "cell_type": "markdown",
   "metadata": {},
   "source": [
    "You are presented with an opportunity to implement an Image Classifier for Tiny ImageNet dataset [same as used in CS231N](LINK). Tiny ImageNet contains 200 classes for training. Each class has 500 images. The test set contains 10,000 images. All images are 64x64 colored ones.\n",
    "\n",
    "Your final goal is to demonstrate solid performance on the test split of the Tiny ImageNet dataset. We encourage you to show your thinking and demonstrate as many best practices along the way as you find appropriate.\n",
    "\n",
    "We are looking for good analysis and presentation of the results, good problem decomposition and enough structure to allow for future foreseeable improvements. "
   ]
  },
  {
   "cell_type": "code",
   "execution_count": 8,
   "metadata": {},
   "outputs": [],
   "source": [
    "%%capture\n",
    "\n",
    "from dataclasses import dataclass, replace\n",
    "from pathlib import Path\n",
    "from typing import Callable, List, Optional, Sequence, Union\n",
    "\n",
    "import pandas as pd\n",
    "import torch\n",
    "import os\n",
    "from pandas import DataFrame\n",
    "from PIL import Image\n",
    "from torch.utils.data.dataloader import default_collate\n",
    "from torch.utils.data.dataset import Dataset\n",
    "import sklearn\n",
    "import numpy as np\n",
    "from matplotlib import pyplot as plt\n",
    "\n",
    "import numpy as np\n",
    "from PIL import Image\n",
    "from torchvision import transforms\n",
    "\n",
    "from torchvision import models\n",
    "from torch.nn.modules import loss\n",
    "from torch import optim\n",
    "from torch.utils.tensorboard import SummaryWriter\n",
    "import torch.nn as nn\n",
    "from tqdm.auto import tqdm"
   ]
  },
  {
   "cell_type": "markdown",
   "metadata": {},
   "source": [
    "# Getting the data"
   ]
  },
  {
   "cell_type": "code",
   "execution_count": 11,
   "metadata": {},
   "outputs": [],
   "source": [
    "DATA_PATH = Path(\"/data\")\n",
    "DATA_PATH.mkdir(exist_ok=True)"
   ]
  },
  {
   "cell_type": "code",
   "execution_count": 17,
   "metadata": {},
   "outputs": [],
   "source": [
    "! [ ! $DATA_PATH/tiny-imagenet-200.zip ] && wget -q http://cs231n.stanford.edu/tiny-imagenet-200.zip -O $DATA_PATH/tiny-imagenet-200.zip"
   ]
  },
  {
   "cell_type": "markdown",
   "metadata": {},
   "source": [
    "Unpacking our dataset will take a while, but it will only have to be done once.\n",
    "\n",
    "Be prepared to wait next cell to finish up to 15 minutes"
   ]
  },
  {
   "cell_type": "code",
   "execution_count": 20,
   "metadata": {},
   "outputs": [
    {
     "name": "stdout",
     "output_type": "stream",
     "text": [
      "tiny-imagenet-200  tiny-imagenet-200.zip\r\n"
     ]
    }
   ],
   "source": [
    "! [ ! -d $DATA_PATH/tiny-imagenet-200 ] && unzip -q $DATA_PATH/tiny-imagenet-200.zip -d $DATA_PATH\n",
    "! ls $DATA_PATH"
   ]
  },
  {
   "cell_type": "markdown",
   "metadata": {},
   "source": [
    "# Dataset\n",
    "\n",
    "Here is a `TinyImagenetDataset` warpper you might find useful."
   ]
  },
  {
   "cell_type": "code",
   "execution_count": 14,
   "metadata": {},
   "outputs": [],
   "source": [
    "Transform = Callable[[Image.Image], Image.Image]\n",
    "\n",
    "\n",
    "@dataclass()\n",
    "class ItemsBatch:\n",
    "    images: torch.Tensor\n",
    "    labels: torch.Tensor\n",
    "    ids: List[int]\n",
    "    paths: List[Path]\n",
    "    items: List[\"DatasetItem\"]\n",
    "\n",
    "\n",
    "@dataclass()\n",
    "class DatasetItem:\n",
    "    image: Union[torch.Tensor, Image.Image]\n",
    "    label: int\n",
    "    id: int\n",
    "    path: Path\n",
    "\n",
    "    @classmethod\n",
    "    def collate(cls, items: Sequence[\"DatasetItem\"]) -> ItemsBatch:\n",
    "        if not isinstance(items, list):\n",
    "            items = list(items)\n",
    "        return ItemsBatch(\n",
    "            images=default_collate([item.image for item in items]),\n",
    "            labels=default_collate([item.label for item in items]),\n",
    "            ids=[item.id for item in items],\n",
    "            paths=[item.path for item in items],\n",
    "            items=items,\n",
    "        )"
   ]
  },
  {
   "cell_type": "code",
   "execution_count": 21,
   "metadata": {},
   "outputs": [],
   "source": [
    "DATA_ROOT = DATA_PATH / \"tiny-imagenet-200\"\n",
    "RESULTS_ROOT = Path(\"/project/results/\")\n",
    "CHECKPOINTS = RESULTS_ROOT / \"checkpoints\"\n",
    "CHECKPOINTS.mkdir(parents=True, exist_ok=True)\n",
    "TENSORBOARD_TAG = \"first_try\"\n",
    "CKPT_NAME = \"first_model.pth\"\n",
    "DEVICE = torch.device(\"cuda\") if torch.cuda.is_available() else torch.device(\"cpu\")"
   ]
  },
  {
   "cell_type": "code",
   "execution_count": 22,
   "metadata": {},
   "outputs": [],
   "source": [
    "TRAIN_PATH = DATA_ROOT / \"train\"\n",
    "VAL_PATH = DATA_ROOT / \"val\"\n",
    "ALL_FOLDERS = [\n",
    "    dir_name\n",
    "    for r, d, f in os.walk(TRAIN_PATH)\n",
    "    for dir_name in d\n",
    "    if dir_name != \"images\"\n",
    "]\n",
    "FOLDERS_TO_NUM = {val: index for index, val in enumerate(ALL_FOLDERS)}\n",
    "\n",
    "LABELS = pd.read_csv(\n",
    "    DATA_ROOT / \"words.txt\", sep=\"\\t\", header=None, index_col=0)[1].to_dict()\n",
    "VAL_LABELS = pd.read_csv(\n",
    "    DATA_ROOT / \"val\" / \"val_annotations.txt\", sep=\"\\t\", header=None, index_col=0)[1].to_dict()"
   ]
  },
  {
   "cell_type": "code",
   "execution_count": 23,
   "metadata": {},
   "outputs": [],
   "source": [
    "class TinyImagenetDataset(Dataset):\n",
    "    _transform: Optional[Transform]\n",
    "    _root: Path\n",
    "    _df: DataFrame\n",
    "\n",
    "    def __init__(self, path, transform: Optional[Transform] = None):\n",
    "        self._transform = transform\n",
    "        if not os.path.isdir(path):\n",
    "            raise NotADirectoryError(f\"{path} is not a directory.\")\n",
    "        all_files = [\n",
    "            os.path.join(r, fyle)\n",
    "            for r, d, f in os.walk(path)\n",
    "            for fyle in f\n",
    "            if \".JPEG\" in fyle\n",
    "        ]\n",
    "        labels = [\n",
    "            FOLDERS_TO_NUM.get(\n",
    "                os.path.basename(f).split(\"_\")[0],\n",
    "                FOLDERS_TO_NUM.get(VAL_LABELS.get(os.path.basename(f))),\n",
    "            )\n",
    "            for f in all_files\n",
    "        ]\n",
    "        self._df = pd.DataFrame({\"path\": all_files, \"label\": labels})\n",
    "\n",
    "    def __getitem__(self, index: int) -> DatasetItem:\n",
    "        path, label = self._df.loc[index, :]\n",
    "        image = Image.open(path).convert(\"RGB\")\n",
    "        if self._transform:\n",
    "            image = self._transform(image)\n",
    "        return DatasetItem(image=image, label=label, id=index, path=path)\n",
    "\n",
    "    def __len__(self) -> int:\n",
    "        return len(self._df)"
   ]
  },
  {
   "cell_type": "markdown",
   "metadata": {},
   "source": [
    "# Training loop\n",
    "\n",
    "This is a very basic training pipeline intended to rid you of writing too much boilerplate code"
   ]
  },
  {
   "cell_type": "code",
   "execution_count": 24,
   "metadata": {},
   "outputs": [],
   "source": [
    "transform = transforms.Compose(\n",
    "    [\n",
    "        transforms.ToTensor(),\n",
    "        transforms.Normalize([0.4802, 0.4481, 0.3975], [0.2302, 0.2265, 0.2262]),\n",
    "    ]\n",
    ")\n",
    "\n",
    "train_dataset = TinyImagenetDataset(DATA_ROOT / \"train\", transform)\n",
    "train_loader = torch.utils.data.DataLoader(\n",
    "    train_dataset,\n",
    "    batch_size=256,\n",
    "    shuffle=True,\n",
    "    collate_fn=DatasetItem.collate,\n",
    "    num_workers=0,\n",
    ")\n",
    "\n",
    "test_dataset = TinyImagenetDataset(DATA_ROOT / \"val\" / \"images\", transform)\n",
    "test_loader = torch.utils.data.DataLoader(\n",
    "    test_dataset,\n",
    "    batch_size=256,\n",
    "    shuffle=True,\n",
    "    collate_fn=DatasetItem.collate,\n",
    "    num_workers=0,\n",
    ")"
   ]
  },
  {
   "cell_type": "code",
   "execution_count": 25,
   "metadata": {},
   "outputs": [],
   "source": [
    "def train(model, device, train_loader, optimizer, loss_function, epoch, writer):\n",
    "    model.train()\n",
    "    model.to(device)\n",
    "    correct = 0\n",
    "    for batch_idx, batch_data in enumerate(tqdm(train_loader)):\n",
    "        data, target = batch_data.images.to(device), batch_data.labels.to(device)\n",
    "        optimizer.zero_grad()\n",
    "        output = model(data)\n",
    "        loss = loss_function(output, target)\n",
    "        loss.backward()\n",
    "        optimizer.step()\n",
    "        pred = output.argmax(dim=1, keepdim=True)\n",
    "        correct += pred.eq(target.view_as(pred)).sum().item()\n",
    "    print(\n",
    "        \"Train Epoch: {} [ ({:.0f}%)]\\tLoss: {:.6f}\".format(\n",
    "            epoch, 100.0 * correct / len(train_loader.dataset), loss.item()\n",
    "        )\n",
    "    )\n",
    "    writer.add_scalar(\"train_loss_plot\", loss.item(), global_step=epoch)\n",
    "    writer.add_scalar(\n",
    "        \"train_accuracy_plot\",\n",
    "        100.0 * correct / len(train_loader.dataset),\n",
    "        global_step=epoch,\n",
    "    )\n",
    "\n",
    "\n",
    "def test(model, device, test_loader, loss_function, epoch, writer):\n",
    "    model.eval()\n",
    "    model.to(device)\n",
    "    test_loss = 0\n",
    "    correct = 0\n",
    "    with torch.no_grad():\n",
    "        for idx, batch_data in enumerate(tqdm(test_loader)):\n",
    "            data, target = batch_data.images.to(device), batch_data.labels.to(device)\n",
    "            output = model(data)\n",
    "            test_loss += loss_function(output, target).sum().item()\n",
    "            pred = output.argmax(dim=1, keepdim=True)\n",
    "            correct += pred.eq(target.view_as(pred)).sum().item()\n",
    "\n",
    "    test_loss /= len(test_loader.dataset)\n",
    "\n",
    "    print(\n",
    "        \"\\nTest set: Average loss: {:.4f}, Accuracy: {}/{} ({:.0f}%)\\n\".format(\n",
    "            test_loss,\n",
    "            correct,\n",
    "            len(test_loader.dataset),\n",
    "            100.0 * correct / len(test_loader.dataset),\n",
    "        )\n",
    "    )\n",
    "    writer.add_scalar(\"test_loss_plot\", test_loss, global_step=epoch)\n",
    "    writer.add_scalar(\n",
    "        \"test_accuracy_plot\",\n",
    "        100.0 * correct / len(test_loader.dataset),\n",
    "        global_step=epoch,\n",
    "    )"
   ]
  },
  {
   "cell_type": "code",
   "execution_count": 26,
   "metadata": {},
   "outputs": [],
   "source": [
    "model = models.resnet18()\n",
    "model.fc = nn.Linear(512, 200)\n",
    "model = model.to(DEVICE)\n",
    "\n",
    "optimizer = optim.SGD(model.parameters(), lr=1e-3)\n",
    "\n",
    "loss_function = loss.CrossEntropyLoss()"
   ]
  },
  {
   "cell_type": "markdown",
   "metadata": {},
   "source": [
    "Please notice, that we added `break` in the training loop, your baseline basically is a `resnet18` without fine-tuning\n",
    "\n",
    "Also we pre-set for you `tensorboard` output path, so it would be easier for us to follow your results"
   ]
  },
  {
   "cell_type": "code",
   "execution_count": 27,
   "metadata": {},
   "outputs": [],
   "source": [
    "for epoch in range(1):\n",
    "    writer = SummaryWriter(RESULTS_ROOT / TENSORBOARD_TAG)\n",
    "    break  # You should probably remove this in your training loop\n",
    "\n",
    "    train(model, DEVICE, train_loader, optimizer, loss_function, epoch, writer)\n",
    "    test(model, DEVICE, test_loader, loss_function, epoch, writer)\n",
    "    writer.close()"
   ]
  },
  {
   "cell_type": "markdown",
   "metadata": {},
   "source": [
    "# Visualisation\n",
    "\n",
    "Here is also a confusion matrix plot for you"
   ]
  },
  {
   "cell_type": "code",
   "execution_count": 28,
   "metadata": {},
   "outputs": [],
   "source": [
    "import sklearn\n",
    "import numpy as np\n",
    "from matplotlib import pyplot as plt"
   ]
  },
  {
   "cell_type": "code",
   "execution_count": 29,
   "metadata": {},
   "outputs": [
    {
     "data": {
      "application/vnd.jupyter.widget-view+json": {
       "model_id": "ccb3dbda10744c50805bd892bbd83978",
       "version_major": 2,
       "version_minor": 0
      },
      "text/plain": [
       "HBox(children=(FloatProgress(value=0.0, max=40.0), HTML(value='')))"
      ]
     },
     "metadata": {},
     "output_type": "display_data"
    },
    {
     "name": "stdout",
     "output_type": "stream",
     "text": [
      "\n"
     ]
    }
   ],
   "source": [
    "total_correct = 0\n",
    "total_images = 0\n",
    "confusion_matrix = np.zeros([200, 200], int)\n",
    "\n",
    "with torch.no_grad():\n",
    "    for item in tqdm(test_loader):\n",
    "        images, labels = item.images.to(DEVICE), item.labels.to(DEVICE)\n",
    "        outputs = model(images)\n",
    "        _, predicted = torch.max(outputs.data, 1)\n",
    "\n",
    "        total_images += labels.size(0)\n",
    "        total_correct += (predicted == labels).sum().item()\n",
    "        for i, l in enumerate(labels):\n",
    "            confusion_matrix[l.item(), predicted[i].item()] += 1"
   ]
  },
  {
   "cell_type": "code",
   "execution_count": 30,
   "metadata": {},
   "outputs": [
    {
     "data": {
      "image/png": "[encoded data removed]",
      "text/plain": [
       "<Figure size 864x864 with 1 Axes>"
      ]
     },
     "metadata": {
      "needs_background": "light"
     },
     "output_type": "display_data"
    }
   ],
   "source": [
    "plt.figure(figsize=(12, 12))\n",
    "plt.imshow(confusion_matrix, cmap=\"gist_heat\", interpolation=\"nearest\")\n",
    "plt.show()"
   ]
  },
  {
   "cell_type": "code",
   "execution_count": null,
   "metadata": {},
   "outputs": [],
   "source": []
  }
 ],
 "metadata": {
  "kernelspec": {
   "display_name": "Python 3",
   "language": "python",
   "name": "python3"
  },
  "language_info": {
   "codemirror_mode": {
    "name": "ipython",
    "version": 3
   },
   "file_extension": ".py",
   "mimetype": "text/x-python",
   "name": "python",
   "nbconvert_exporter": "python",
   "pygments_lexer": "ipython3",
   "version": "3.7.7"
  },
  "latex_envs": {
   "LaTeX_envs_menu_present": true,
   "autoclose": false,
   "autocomplete": true,
   "bibliofile": "biblio.bib",
   "cite_by": "apalike",
   "current_citInitial": 1,
   "eqLabelWithNumbers": true,
   "eqNumInitial": 1,
   "hotkeys": {
    "equation": "Ctrl-E",
    "itemize": "Ctrl-I"
   },
   "labels_anchors": false,
   "latex_user_defs": false,
   "report_style_numbering": false,
   "user_envs_cfg": false
  },
  "pycharm": {
   "stem_cell": {
    "cell_type": "raw",
    "metadata": {
     "collapsed": false
    },
    "source": []
   }
  },
  "stem_cell": {
   "cell_type": "raw",
   "metadata": {
    "pycharm": {
     "metadata": false
    }
   },
   "source": ""
  },
  "toc": {
   "base_numbering": 1,
   "nav_menu": {},
   "number_sections": true,
   "sideBar": true,
   "skip_h1_title": false,
   "title_cell": "Table of Contents",
   "title_sidebar": "Contents",
   "toc_cell": false,
   "toc_position": {},
   "toc_section_display": true,
   "toc_window_display": false
  },
  "varInspector": {
   "cols": {
    "lenName": 16,
    "lenType": 16,
    "lenVar": 40
   },
   "kernels_config": {
    "python": {
     "delete_cmd_postfix": "",
     "delete_cmd_prefix": "del ",
     "library": "var_list.py",
     "varRefreshCmd": "print(var_dic_list())"
    },
    "r": {
     "delete_cmd_postfix": ") ",
     "delete_cmd_prefix": "rm(",
     "library": "var_list.r",
     "varRefreshCmd": "cat(var_dic_list()) "
    }
   },
   "types_to_exclude": [
    "module",
    "function",
    "builtin_function_or_method",
    "instance",
    "_Feature"
   ],
   "window_display": false
  }
 },
 "nbformat": 4,
 "nbformat_minor": 4
}
